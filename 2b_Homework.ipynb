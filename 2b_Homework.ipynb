{
  "cells": [
    {
      "cell_type": "markdown",
      "id": "005d2f1a-b03a-4b24-9e62-56d953d35ed0",
      "metadata": {
        "id": "005d2f1a-b03a-4b24-9e62-56d953d35ed0"
      },
      "source": [
        "# Python Essentials"
      ]
    },
    {
      "cell_type": "markdown",
      "id": "9982df2b-f753-493e-8300-3d1824c92675",
      "metadata": {
        "id": "9982df2b-f753-493e-8300-3d1824c92675"
      },
      "source": [
        "### Homework"
      ]
    },
    {
      "cell_type": "markdown",
      "id": "96210dbd-f5f2-4f5a-bb66-c89a85391504",
      "metadata": {
        "id": "96210dbd-f5f2-4f5a-bb66-c89a85391504"
      },
      "source": [
        "#### Standard Exercises"
      ]
    },
    {
      "cell_type": "markdown",
      "id": "9b81e9cc-db0e-4ab8-a8ae-50da4714c4a1",
      "metadata": {
        "id": "9b81e9cc-db0e-4ab8-a8ae-50da4714c4a1"
      },
      "source": [
        "Note: the `input()` function prompts the user to insert an input in the program, see the next cell for an example:"
      ]
    },
    {
      "cell_type": "code",
      "execution_count": 1,
      "id": "b6e8dce3-2db8-4a10-81b8-55ef0384b7a8",
      "metadata": {
        "id": "b6e8dce3-2db8-4a10-81b8-55ef0384b7a8",
        "outputId": "7a2ee0a4-6f4a-4c40-bc93-afd1fb337086"
      },
      "outputs": [
        {
          "name": "stdout",
          "output_type": "stream",
          "text": [
            "Hello Lol\n"
          ]
        }
      ],
      "source": [
        "# Run this cell to see how the input() function works\n",
        "msg = input(\"What's your name?\")\n",
        "print(\"Hello\", msg)"
      ]
    },
    {
      "cell_type": "markdown",
      "id": "efd8e63c-55c2-41db-ad3e-6fc8af1de072",
      "metadata": {
        "id": "efd8e63c-55c2-41db-ad3e-6fc8af1de072"
      },
      "source": []
    },
    {
      "cell_type": "markdown",
      "id": "988ba287-8ad4-43b9-86e5-64aa2ff2119f",
      "metadata": {
        "id": "988ba287-8ad4-43b9-86e5-64aa2ff2119f"
      },
      "source": [
        "**Exercises on conditionals**\n",
        "\n",
        "Answer the following questions, check the results at this [webpage](https://csiplearninghub.com/python-if-else-conditional-statement-practice/#test1) (last 5 questions of the \"Test 1\" section)."
      ]
    },
    {
      "cell_type": "markdown",
      "id": "86685b2d-f4a3-4af7-997d-f42eca137c48",
      "metadata": {
        "id": "86685b2d-f4a3-4af7-997d-f42eca137c48"
      },
      "source": [
        "    Q6. Write a program to check whether a number is divisible by 7 or not."
      ]
    },
    {
      "cell_type": "code",
      "execution_count": 2,
      "id": "7d042551-3fb9-4efe-8657-bc7e772e0857",
      "metadata": {
        "colab": {
          "base_uri": "https://localhost:8080/"
        },
        "id": "7d042551-3fb9-4efe-8657-bc7e772e0857",
        "outputId": "ddf41a82-436d-4e2a-d01e-0b007c04de76"
      },
      "outputs": [
        {
          "name": "stdout",
          "output_type": "stream",
          "text": [
            "is 21 divisible by 7?\n",
            "True\n",
            "is 20 divisible by 7?\n",
            "False\n",
            "is 2 divisible by 7?\n",
            "False\n",
            "is 0 divisible by 7?\n",
            "True\n"
          ]
        }
      ],
      "source": [
        "def divisible_by_7 (num):\n",
        "  print(f\"is {num} divisible by 7?\")\n",
        "  return num % 7 == 0\n",
        "\n",
        "print(divisible_by_7(21))\n",
        "print(divisible_by_7(20))\n",
        "print(divisible_by_7(2))\n",
        "print(divisible_by_7(0))"
      ]
    },
    {
      "cell_type": "markdown",
      "id": "bcb7986c-161f-4b58-bf38-c201352ed8e0",
      "metadata": {
        "id": "bcb7986c-161f-4b58-bf38-c201352ed8e0"
      },
      "source": [
        "    Q7. Write a program to display \"Hello\" if a number entered by user is a multiple of five, otherwise print \"Bye\"."
      ]
    },
    {
      "cell_type": "code",
      "execution_count": 3,
      "id": "d9d08a04-cd62-463a-87be-c82216198b42",
      "metadata": {
        "colab": {
          "base_uri": "https://localhost:8080/"
        },
        "id": "d9d08a04-cd62-463a-87be-c82216198b42",
        "outputId": "8dcd2a03-ee2b-4242-efc5-0ae8aa796606"
      },
      "outputs": [
        {
          "name": "stdout",
          "output_type": "stream",
          "text": [
            "Hello\n",
            "Bye\n"
          ]
        }
      ],
      "source": [
        "def divisible_by_5 (num):\n",
        "  if (num % 5 == 0):\n",
        "    print(\"Hello\")\n",
        "  else:\n",
        "    print(\"Bye\")\n",
        "\n",
        "divisible_by_5(5)\n",
        "divisible_by_5(3)"
      ]
    },
    {
      "cell_type": "markdown",
      "id": "9ea7dcbe-51cb-43d3-a4a0-8a13184ce002",
      "metadata": {
        "id": "9ea7dcbe-51cb-43d3-a4a0-8a13184ce002"
      },
      "source": [
        "    Q8. Write a program to calculate the electricity bill (accept number of unit from user) according to the following criteria:\n",
        "```\n",
        "Unit                                                     Price  \n",
        "First 100 units                                          no charge\n",
        "Next 100 units                                           Rs 5 per unit\n",
        "After 200 units                                          Rs 10 per unit\n",
        "```\n",
        "    (For example if input unit is 350 than total bill amount is Rs2000)"
      ]
    },
    {
      "cell_type": "code",
      "execution_count": 4,
      "id": "3180ba10-259b-40c7-9843-173cd69c8654",
      "metadata": {
        "colab": {
          "base_uri": "https://localhost:8080/"
        },
        "id": "3180ba10-259b-40c7-9843-173cd69c8654",
        "outputId": "1c970744-ddb9-41d1-d63b-2d7fb6cb41d2"
      },
      "outputs": [
        {
          "name": "stdout",
          "output_type": "stream",
          "text": [
            "price for 22 should be 0: 0\n",
            "price for 120 should be 100: 100\n",
            "price for 320 should be 1700: 1700\n"
          ]
        }
      ],
      "source": [
        "def calc_bill (num_of_units):\n",
        "  remaining_units = num_of_units\n",
        "  sum = 0\n",
        "\n",
        "  remaining_units -= min(remaining_units, 100)\n",
        "\n",
        "  sum += min(remaining_units, 100) * 5\n",
        "  remaining_units -= min(remaining_units, 100)\n",
        "\n",
        "  sum += remaining_units * 10\n",
        "\n",
        "  return sum\n",
        "\n",
        "print(\"price for 22 should be 0:\", calc_bill(22))\n",
        "print(\"price for 120 should be 100:\", calc_bill(120))\n",
        "print(\"price for 320 should be 1700:\", calc_bill(320))\n"
      ]
    },
    {
      "cell_type": "markdown",
      "id": "62f03878-625e-44e2-9c47-470f47841457",
      "metadata": {
        "id": "62f03878-625e-44e2-9c47-470f47841457"
      },
      "source": [
        "    Q9. Write a program to display the last digit of a number (hint: any number % 10 will return the last digit)."
      ]
    },
    {
      "cell_type": "code",
      "execution_count": 5,
      "id": "6e08f7e6-bfbb-45fb-9ad0-a4af540df05a",
      "metadata": {
        "colab": {
          "base_uri": "https://localhost:8080/"
        },
        "id": "6e08f7e6-bfbb-45fb-9ad0-a4af540df05a",
        "outputId": "10c118a2-0bcb-4bf8-ef02-8a06e5ccfbc5"
      },
      "outputs": [
        {
          "name": "stdout",
          "output_type": "stream",
          "text": [
            "0\n",
            "4\n",
            "4\n"
          ]
        }
      ],
      "source": [
        "def last_digit (number):\n",
        "  return int(number) % 10\n",
        "\n",
        "print(last_digit(20))\n",
        "print(last_digit(24))\n",
        "print(last_digit(24.23))"
      ]
    },
    {
      "cell_type": "markdown",
      "id": "490fc680-7a4b-4c69-bd61-d2b7f81d877d",
      "metadata": {
        "id": "490fc680-7a4b-4c69-bd61-d2b7f81d877d"
      },
      "source": [
        "    Q10. Write a program to check whether the last digit of a number (entered by user) is divisible by 3 or not."
      ]
    },
    {
      "cell_type": "code",
      "execution_count": 7,
      "id": "1b5bc289-8ec7-4b8a-a1b7-652920afbebe",
      "metadata": {
        "colab": {
          "base_uri": "https://localhost:8080/"
        },
        "id": "1b5bc289-8ec7-4b8a-a1b7-652920afbebe",
        "outputId": "673f8f2c-5e2a-41f7-9296-87792a054a06"
      },
      "outputs": [
        {
          "name": "stdout",
          "output_type": "stream",
          "text": [
            "True\n"
          ]
        }
      ],
      "source": [
        "def last_digit_divisible_by_3 ():\n",
        "  number = int(input(\"Enter a number\"))\n",
        "  print(number % 3 == 0)\n",
        "\n",
        "last_digit_divisible_by_3()"
      ]
    },
    {
      "cell_type": "markdown",
      "id": "c3a2b030-2aa2-4a63-a6da-565150788144",
      "metadata": {
        "id": "c3a2b030-2aa2-4a63-a6da-565150788144"
      },
      "source": [
        "**Exercises on loops**\n",
        "\n",
        "Answer the following questions, check the results at this [webpage](https://csiplearninghub.com/practice-questions-of-loops-in-python/) (questions Q2, Q4, Q5, Q6 and Q8 of the \"Test 1\" section)."
      ]
    },
    {
      "cell_type": "markdown",
      "id": "12a58590-3a49-4a72-9d40-8524a30f9ce7",
      "metadata": {
        "id": "12a58590-3a49-4a72-9d40-8524a30f9ce7"
      },
      "source": [
        "    Q2. Write a program to print the first 10 natural numbers."
      ]
    },
    {
      "cell_type": "code",
      "execution_count": null,
      "id": "fe8fc1a0-b019-410f-ae7d-673804b862e7",
      "metadata": {
        "colab": {
          "base_uri": "https://localhost:8080/"
        },
        "id": "fe8fc1a0-b019-410f-ae7d-673804b862e7",
        "outputId": "743fd063-6ec9-4714-cec5-df7f8d58e4cb"
      },
      "outputs": [
        {
          "name": "stdout",
          "output_type": "stream",
          "text": [
            "1\n",
            "2\n",
            "3\n",
            "4\n",
            "5\n",
            "6\n",
            "7\n",
            "8\n",
            "9\n",
            "10\n"
          ]
        }
      ],
      "source": [
        "for i in range(1, 11):\n",
        "  print(i)"
      ]
    },
    {
      "cell_type": "markdown",
      "id": "ba032d46-55fa-4083-be65-bdab8e754336",
      "metadata": {
        "id": "ba032d46-55fa-4083-be65-bdab8e754336"
      },
      "source": [
        "    Q4. Write a program to print first 10 odd numbers."
      ]
    },
    {
      "cell_type": "code",
      "execution_count": null,
      "id": "29c3d1a1-01a0-49aa-a834-893ca34c5fa0",
      "metadata": {
        "colab": {
          "base_uri": "https://localhost:8080/"
        },
        "id": "29c3d1a1-01a0-49aa-a834-893ca34c5fa0",
        "outputId": "6e230fc5-9c39-45f4-9c80-8cc9e870c075"
      },
      "outputs": [
        {
          "name": "stdout",
          "output_type": "stream",
          "text": [
            "1\n",
            "3\n",
            "5\n",
            "7\n",
            "9\n",
            "11\n",
            "13\n",
            "15\n",
            "17\n",
            "19\n"
          ]
        }
      ],
      "source": [
        "for i in range(1, 20, 2):\n",
        "  print(i)"
      ]
    },
    {
      "cell_type": "markdown",
      "id": "2844e9a3-bacd-401e-9356-2989015f894b",
      "metadata": {
        "id": "2844e9a3-bacd-401e-9356-2989015f894b"
      },
      "source": [
        "    Q5. Write a program to print the first 10 even numbers in reverse order."
      ]
    },
    {
      "cell_type": "code",
      "execution_count": null,
      "id": "45074b0a-f304-4c93-8e26-68e32934bc62",
      "metadata": {
        "colab": {
          "base_uri": "https://localhost:8080/"
        },
        "id": "45074b0a-f304-4c93-8e26-68e32934bc62",
        "outputId": "8133723f-bbb2-4a41-d5be-77c203e64741"
      },
      "outputs": [
        {
          "name": "stdout",
          "output_type": "stream",
          "text": [
            "20\n",
            "18\n",
            "16\n",
            "14\n",
            "12\n",
            "10\n",
            "8\n",
            "6\n",
            "4\n",
            "2\n"
          ]
        }
      ],
      "source": [
        "for i in range(20, 1, -2):\n",
        "  print(i)"
      ]
    },
    {
      "cell_type": "markdown",
      "id": "a3722ad6-e37e-4a80-b854-ca252cadf9da",
      "metadata": {
        "id": "a3722ad6-e37e-4a80-b854-ca252cadf9da"
      },
      "source": [
        "    Q6. Write a program to print table of a number accepted from user."
      ]
    },
    {
      "cell_type": "code",
      "execution_count": null,
      "id": "780a8e69-472d-46b5-a810-273a1c880a2b",
      "metadata": {
        "id": "780a8e69-472d-46b5-a810-273a1c880a2b"
      },
      "outputs": [],
      "source": [
        "def math_table_of (num):\n",
        "  for i in range(1, 11):\n",
        "    print(i * num)"
      ]
    },
    {
      "cell_type": "markdown",
      "id": "4d05bc97-eb90-47a1-a511-2384a2226485",
      "metadata": {
        "id": "4d05bc97-eb90-47a1-a511-2384a2226485"
      },
      "source": [
        "    Q8. Write a program to find the factorial of a number."
      ]
    },
    {
      "cell_type": "code",
      "execution_count": 10,
      "id": "42fbb487-a542-42f4-a000-9295c0917a40",
      "metadata": {
        "id": "42fbb487-a542-42f4-a000-9295c0917a40"
      },
      "outputs": [
        {
          "name": "stdout",
          "output_type": "stream",
          "text": [
            "120\n"
          ]
        }
      ],
      "source": [
        "# the factorial of a number n is the product of all positive integers less than or equal to n\n",
        "# example: the factorial of 5 is 1*2*3*4*5 = 120\n",
        "def factorial (num):\n",
        "\tsum = 1\n",
        "\tfor i in range (num, 1, -1):\n",
        "\t\tsum *= i\n",
        "\treturn sum\n",
        "\n",
        "print(factorial(5))"
      ]
    },
    {
      "cell_type": "markdown",
      "id": "8bc5aa37-56fd-46ff-83e2-7dc2a3f030bb",
      "metadata": {
        "id": "8bc5aa37-56fd-46ff-83e2-7dc2a3f030bb"
      },
      "source": [
        "#### Advanced Exercises"
      ]
    },
    {
      "cell_type": "markdown",
      "id": "f625d670-8aaa-4565-bafd-36fcd7bf0c53",
      "metadata": {
        "id": "f625d670-8aaa-4565-bafd-36fcd7bf0c53"
      },
      "source": [
        "1. If there are n people in a room and everyone shakes each other's hand, there will be `n*(n-1)/2` handshakes. Write a function `handshakes()` that, given a number as input, returns the total number of handshakes."
      ]
    },
    {
      "cell_type": "code",
      "execution_count": 19,
      "id": "8f8d0975-28f6-4d07-a8c2-9953ad372a0f",
      "metadata": {
        "id": "8f8d0975-28f6-4d07-a8c2-9953ad372a0f"
      },
      "outputs": [],
      "source": [
        "# define the function here\n",
        "def handshakes (people):\n",
        "\tif people <= 1:\n",
        "\t\treturn 0\n",
        "\treturn int(people * (people-1)/ 2)"
      ]
    },
    {
      "cell_type": "code",
      "execution_count": 20,
      "id": "3e8d9e00-f47c-4c94-8c6c-b0f8a9d7bc0e",
      "metadata": {
        "id": "3e8d9e00-f47c-4c94-8c6c-b0f8a9d7bc0e"
      },
      "outputs": [
        {
          "name": "stdout",
          "output_type": "stream",
          "text": [
            "0\n",
            "1\n",
            "3\n",
            "6\n"
          ]
        }
      ],
      "source": [
        "# test the function here\n",
        "print(handshakes(1))\n",
        "print(handshakes(2))\n",
        "print(handshakes(3))\n",
        "print(handshakes(4))"
      ]
    },
    {
      "cell_type": "markdown",
      "id": "fcf48dc5-e2b8-41c0-95d4-dc21b1c4fca6",
      "metadata": {
        "id": "fcf48dc5-e2b8-41c0-95d4-dc21b1c4fca6"
      },
      "source": [
        "Now write a program that accepts an input `n` from the user and, looping between 2 and `n`, prints the number `n` and, next to each number, writes the corresponding number of handshakes. *(hint: you'll need to include the function you just created inside the loop)*"
      ]
    },
    {
      "cell_type": "code",
      "execution_count": 22,
      "id": "409cb56f-a27d-40ff-abcb-272041a64c12",
      "metadata": {
        "id": "409cb56f-a27d-40ff-abcb-272041a64c12"
      },
      "outputs": [
        {
          "name": "stdout",
          "output_type": "stream",
          "text": [
            "0 people: 0\n",
            "1 people: 0\n",
            "2 people: 1\n",
            "3 people: 3\n",
            "4 people: 6\n",
            "5 people: 10\n",
            "6 people: 15\n",
            "7 people: 21\n",
            "8 people: 28\n",
            "9 people: 36\n"
          ]
        }
      ],
      "source": [
        "# write handshake program here\n",
        "def handshake (n):\n",
        "\tfor i in range(0, n):\n",
        "\t\tprint(f\"{i} people: {handshakes(i)}\")\n",
        "\n",
        "handshake(10)"
      ]
    },
    {
      "cell_type": "markdown",
      "id": "b5fe9a0a-01e1-40b8-b948-83dba4f01662",
      "metadata": {
        "id": "b5fe9a0a-01e1-40b8-b948-83dba4f01662"
      },
      "source": [
        "2. Write a function `math_trick()` that follows the rules below:\n",
        "\n",
        "    - Take as input a three-digit number, if the number has less or more digits, print \"Wrong number of digits, input a three-digits number.\"\n",
        "    - Write it twice to make a six-digit number (for example, if the input number was 371, the new value will be 371371)\n",
        "    - Divide the new number by 7\n",
        "    - Divide the result by 11\n",
        "    - Divide the result by 13\n",
        "    \n",
        "    *The order in which you do the divisions is not important!*\n",
        "    \n",
        "    The final result should be the initial three-digit number!"
      ]
    },
    {
      "cell_type": "code",
      "execution_count": 27,
      "id": "da7d92e4-5e32-4e27-9c06-eee102189f76",
      "metadata": {
        "id": "da7d92e4-5e32-4e27-9c06-eee102189f76"
      },
      "outputs": [],
      "source": [
        "# define the function here\n",
        "def math_trick (number):\n",
        "\tif len(str(int(number))) != 3:\n",
        "\t\tprint(\"Wrong number of digits, input a three digit number.\")\n",
        "\telse:\n",
        "\t\tnewNum = int(str(number)*2)\n",
        "\t\tprint(newNum)\n",
        "\t\tnewNum /= 7\n",
        "\t\tprint(newNum)\n",
        "\t\tnewNum /= 11\n",
        "\t\tprint(newNum)\n",
        "\t\tnewNum /= 13\n",
        "\t\tprint(newNum)"
      ]
    },
    {
      "cell_type": "code",
      "execution_count": 28,
      "id": "a85aff3f-a789-4642-abc0-3efbec31972f",
      "metadata": {
        "id": "a85aff3f-a789-4642-abc0-3efbec31972f"
      },
      "outputs": [
        {
          "name": "stdout",
          "output_type": "stream",
          "text": [
            "345345\n",
            "49335.0\n",
            "4485.0\n",
            "345.0\n"
          ]
        }
      ],
      "source": [
        "# test the function here\n",
        "math_trick(345)"
      ]
    },
    {
      "cell_type": "markdown",
      "id": "984bb4b2-b391-4a56-bd7f-51b21d5144f1",
      "metadata": {
        "id": "984bb4b2-b391-4a56-bd7f-51b21d5144f1"
      },
      "source": [
        "3. Write a function `prime_check()` that accepts a number as parameter and checks whether it is prime or not."
      ]
    },
    {
      "cell_type": "code",
      "execution_count": 50,
      "id": "0cf078a3-d4bd-4247-bcb0-e7fcc31e8b1d",
      "metadata": {
        "id": "0cf078a3-d4bd-4247-bcb0-e7fcc31e8b1d"
      },
      "outputs": [],
      "source": [
        "# a number is prime if it is only divisible by itself and by 1\n",
        "def prime_check(num):\n",
        "\tprint(f\"Is {num} a prime number?\")\n",
        "\n",
        "\tif num == 1 or num == 0:\n",
        "\t\treturn False\n",
        "\n",
        "\tfor i in range(num-1, 1, -1):\n",
        "\t\tif num % i == 0:\n",
        "\t\t\treturn False\n",
        "\n",
        "\treturn True"
      ]
    },
    {
      "cell_type": "code",
      "execution_count": 51,
      "id": "720f79a1-97ba-43a4-91cf-f43b1b8177b7",
      "metadata": {
        "id": "720f79a1-97ba-43a4-91cf-f43b1b8177b7"
      },
      "outputs": [
        {
          "name": "stdout",
          "output_type": "stream",
          "text": [
            "Is 10 a prime number?\n",
            "False\n",
            "Is 9 a prime number?\n",
            "False\n",
            "Is 8 a prime number?\n",
            "False\n",
            "Is 7 a prime number?\n",
            "True\n",
            "Is 6 a prime number?\n",
            "False\n",
            "Is 5 a prime number?\n",
            "True\n",
            "Is 4 a prime number?\n",
            "False\n",
            "Is 3 a prime number?\n",
            "True\n",
            "Is 2 a prime number?\n",
            "True\n",
            "Is 1 a prime number?\n",
            "False\n"
          ]
        }
      ],
      "source": [
        "# test the function here\n",
        "for i in range(10, 0, -1):\n",
        "\tprint(prime_check(i))"
      ]
    },
    {
      "cell_type": "markdown",
      "id": "c343b5f9-f9f0-4a0f-b7aa-73fe109220fc",
      "metadata": {
        "id": "c343b5f9-f9f0-4a0f-b7aa-73fe109220fc"
      },
      "source": [
        "4. [Bonus!] Read the explanation below (if necessary, watch [this video](https://www.youtube.com/watch?v=d8TRcZklX_Q) for a practical explanation) and then write a function `kaprekar()` that, given as input a four digit number, outputs the the result at each iteration of the Kaprekar's routine until it converges to 6174.\n",
        "    \n",
        "    6174 is known as [Kaprekar's constant](https://en.wikipedia.org/wiki/6174_(number)) after the Indian mathematician D. R. Kaprekar. This number is renowned for the following rule:\n",
        "\n",
        "    - Take any four-digit number, using at least two different digits (leading zeros are allowed).\n",
        "    - Arrange the digits in descending and then in ascending order to get two four-digit numbers, adding leading zeros if necessary.\n",
        "    - Subtract the smaller number from the bigger number.\n",
        "    - Go back to step 2 and repeat.\n",
        "    \n",
        "    The above process, known as Kaprekar's routine, will always reach its fixed point, 6174, in at most 7 iterations.[4] Once 6174 is reached, the process will continue yielding 7641 – 1467 = 6174.\n",
        "    \n",
        "    *Hint: if you can't figure out how to arrange the digits in ascending/descending order, check [this page](https://stackoverflow.com/questions/1301156/how-to-sort-digits-in-a-number) out.*"
      ]
    },
    {
      "cell_type": "code",
      "execution_count": 92,
      "id": "714a9522-4a37-4d49-9823-96c075e822a7",
      "metadata": {
        "id": "714a9522-4a37-4d49-9823-96c075e822a7"
      },
      "outputs": [],
      "source": [
        "# define the function here\n",
        "def kaprekar(four_digit_number):\n",
        "\tcurrent_num = four_digit_number\n",
        "\tfor i in range(1, 10):\n",
        "\t\t# let's do 9 iterations just in case\n",
        "\t\tprint(f\"iteration {i}, current state: {current_num}\")\n",
        "\t\tstring_num = str(current_num)\n",
        "\t\tordered_num_ASC = int(\"\".join(sorted(list(str(current_num)))))\n",
        "\t\tordered_num_DESC = int(\"\".join(sorted(list(str(current_num)), reverse=True)))\n",
        "\n",
        "\t\tsmaller = min(ordered_num_ASC, ordered_num_DESC)\n",
        "\t\tbigger = max(ordered_num_ASC, ordered_num_DESC)\n",
        "\t\tcurrent_num = bigger-smaller"
      ]
    },
    {
      "cell_type": "code",
      "execution_count": 93,
      "id": "616f589a-46fd-47c1-896a-84a56756b577",
      "metadata": {
        "id": "616f589a-46fd-47c1-896a-84a56756b577"
      },
      "outputs": [
        {
          "name": "stdout",
          "output_type": "stream",
          "text": [
            "iteration 1, current state: 4326\n",
            "iteration 2, current state: 4086\n",
            "iteration 3, current state: 8172\n",
            "iteration 4, current state: 7443\n",
            "iteration 5, current state: 3996\n",
            "iteration 6, current state: 6264\n",
            "iteration 7, current state: 4176\n",
            "iteration 8, current state: 6174\n",
            "iteration 9, current state: 6174\n"
          ]
        }
      ],
      "source": [
        "# test the function here\n",
        "kaprekar(4326)"
      ]
    }
  ],
  "metadata": {
    "colab": {
      "provenance": []
    },
    "kernelspec": {
      "display_name": "Python 3 (ipykernel)",
      "language": "python",
      "name": "python3"
    },
    "language_info": {
      "codemirror_mode": {
        "name": "ipython",
        "version": 3
      },
      "file_extension": ".py",
      "mimetype": "text/x-python",
      "name": "python",
      "nbconvert_exporter": "python",
      "pygments_lexer": "ipython3",
      "version": "3.12.1"
    }
  },
  "nbformat": 4,
  "nbformat_minor": 5
}
